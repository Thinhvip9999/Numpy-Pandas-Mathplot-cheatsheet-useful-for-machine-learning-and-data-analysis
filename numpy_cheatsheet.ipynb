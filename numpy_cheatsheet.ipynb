{
 "cells": [
  {
   "cell_type": "markdown",
   "metadata": {},
   "source": [
    "# Numpy CheatSheet"
   ]
  },
  {
   "cell_type": "code",
   "execution_count": 1,
   "metadata": {},
   "outputs": [],
   "source": [
    "# Importing numpy\n",
    "import numpy as np"
   ]
  },
  {
   "cell_type": "markdown",
   "metadata": {},
   "source": [
    "---"
   ]
  },
  {
   "cell_type": "code",
   "execution_count": 2,
   "metadata": {},
   "outputs": [],
   "source": [
    "# Tạo mảng\n",
    "arr = np.array([1, 2, 3])  # Mảng 1D\n",
    "arr_2d = np.array([[1, 2], [3, 4]])  # Mảng 2D\n",
    "arr_zeros = np.zeros((3, 3))  # Mảng chứa toàn số 0\n",
    "arr_ones = np.ones((2, 4))  # Mảng chứa toàn số 1\n",
    "arr_range = np.arange(0, 10, 2)  # Mảng với phạm vi\n",
    "arr_linspace = np.linspace(0, 10, 5)  # Mảng với các giá trị được phân bổ đều"
   ]
  },
  {
   "cell_type": "code",
   "execution_count": 12,
   "metadata": {},
   "outputs": [
    {
     "name": "stdout",
     "output_type": "stream",
     "text": [
      "arr:\n",
      " [1 2 3]\n",
      "arr_2d:\n",
      " [[1 2]\n",
      " [3 4]]\n",
      "arr_zeros:\n",
      " [[0. 0. 0.]\n",
      " [0. 0. 0.]\n",
      " [0. 0. 0.]]\n",
      "arr_ones:\n",
      " [[1. 1. 1. 1.]\n",
      " [1. 1. 1. 1.]]\n",
      "arr_range:\n",
      " [0 2 4 6 8]\n",
      "arr_linspace:\n",
      " [ 0.   2.5  5.   7.5 10. ]\n"
     ]
    }
   ],
   "source": [
    "# In kết quả các mảng\n",
    "print(\"arr:\\n\", arr)\n",
    "print(\"arr_2d:\\n\", arr_2d)\n",
    "print(\"arr_zeros:\\n\", arr_zeros)\n",
    "print(\"arr_ones:\\n\", arr_ones)\n",
    "print(\"arr_range:\\n\", arr_range)\n",
    "print(\"arr_linspace:\\n\", arr_linspace)"
   ]
  },
  {
   "cell_type": "markdown",
   "metadata": {},
   "source": [
    "---"
   ]
  },
  {
   "cell_type": "code",
   "execution_count": 8,
   "metadata": {},
   "outputs": [],
   "source": [
    "# Thuộc tính của mảng\n",
    "arr_shape = arr_2d.shape  # Kích thước của mảng\n",
    "arr_size = arr_2d.size  # Tổng số phần tử\n",
    "arr_dtype = arr_2d.dtype  # Kiểu dữ liệu của phần tử\n",
    "arr_itemsize = arr_2d.itemsize  # Kích thước bộ nhớ của một phần tử\n",
    "arr_ndim = arr_2d.ndim  # Số chiều của mảng"
   ]
  },
  {
   "cell_type": "code",
   "execution_count": 9,
   "metadata": {},
   "outputs": [
    {
     "name": "stdout",
     "output_type": "stream",
     "text": [
      "Shape của arr_2d: (2, 2)\n",
      "Kích thước của arr_2d: 4\n",
      "Kiểu dữ liệu của arr_2d: int32\n",
      "Kích thước bộ nhớ của một phần tử trong arr_2d: 4\n",
      "Số chiều của arr_2d: 2\n"
     ]
    }
   ],
   "source": [
    "# In kết quả các thuộc tính\n",
    "print(\"Shape của arr_2d:\", arr_shape)\n",
    "print(\"Kích thước của arr_2d:\", arr_size)\n",
    "print(\"Kiểu dữ liệu của arr_2d:\", arr_dtype)\n",
    "print(\"Kích thước bộ nhớ của một phần tử trong arr_2d:\", arr_itemsize)\n",
    "print(\"Số chiều của arr_2d:\", arr_ndim)"
   ]
  },
  {
   "cell_type": "markdown",
   "metadata": {},
   "source": [
    "---"
   ]
  },
  {
   "cell_type": "code",
   "execution_count": 10,
   "metadata": {},
   "outputs": [],
   "source": [
    "# Chỉ mục và cắt mảng\n",
    "arr_slice = arr_2d[1, :]  # Cắt một dòng\n",
    "arr_subarray = arr_2d[:2, :2]  # Cắt mảng con\n",
    "arr_reverse = arr[::-1]  # Đảo ngược mảng\n",
    "arr_indexing = arr_2d[1][1]  # Truy cập phần tử cụ thể"
   ]
  },
  {
   "cell_type": "code",
   "execution_count": 13,
   "metadata": {},
   "outputs": [
    {
     "name": "stdout",
     "output_type": "stream",
     "text": [
      "arr_slice: [3 4]\n",
      "arr_subarray: \n",
      " [[1 2]\n",
      " [3 4]]\n",
      "arr_reverse: [3 2 1]\n",
      "arr_indexing: 4\n"
     ]
    }
   ],
   "source": [
    "# In kết quả cắt mảng\n",
    "print(\"arr_slice:\", arr_slice)\n",
    "print(\"arr_subarray: \\n\", arr_subarray)\n",
    "print(\"arr_reverse:\", arr_reverse)\n",
    "print(\"arr_indexing:\", arr_indexing)"
   ]
  },
  {
   "cell_type": "markdown",
   "metadata": {},
   "source": [
    "---"
   ]
  },
  {
   "cell_type": "code",
   "execution_count": 15,
   "metadata": {},
   "outputs": [],
   "source": [
    "# Các phép toán toán học\n",
    "arr_add = arr + 2  # Cộng 2 vào từng phần tử\n",
    "arr_mul = arr * 2  # Nhân từng phần tử với 2\n",
    "arr_dot = np.dot(arr_2d, np.array([1, 2]))  # Phép nhân ma trận chỉ xảy ra với ma trận có dạng a*b và b*c (trong trường hợp này là 2*2 và 2*1)\n",
    "arr_sum = arr_2d.sum()  # Tổng tất cả phần tử\n",
    "arr_mean = arr_2d.mean()  # Trung bình cộng tất cả phần tử\n",
    "arr_std = arr_2d.std()  # Độ lệch chuẩn\n",
    "arr_max = arr_2d.max()  # Phần tử lớn nhất\n",
    "arr_min = arr_2d.min()  # Phần tử nhỏ nhất"
   ]
  },
  {
   "cell_type": "code",
   "execution_count": 16,
   "metadata": {},
   "outputs": [
    {
     "name": "stdout",
     "output_type": "stream",
     "text": [
      "arr_add: [3 4 5]\n",
      "arr_mul: [2 4 6]\n",
      "arr_dot: [ 5 11]\n",
      "arr_sum: 10\n",
      "arr_mean: 2.5\n",
      "arr_std: 1.118033988749895\n",
      "arr_max: 4\n",
      "arr_min: 1\n"
     ]
    }
   ],
   "source": [
    "# In kết quả phép toán toán học\n",
    "print(\"arr_add:\", arr_add)\n",
    "print(\"arr_mul:\", arr_mul)\n",
    "print(\"arr_dot:\", arr_dot)\n",
    "print(\"arr_sum:\", arr_sum)\n",
    "print(\"arr_mean:\", arr_mean)\n",
    "print(\"arr_std:\", arr_std)\n",
    "print(\"arr_max:\", arr_max)\n",
    "print(\"arr_min:\", arr_min)"
   ]
  },
  {
   "cell_type": "markdown",
   "metadata": {},
   "source": [
    "---"
   ]
  },
  {
   "cell_type": "code",
   "execution_count": 17,
   "metadata": {},
   "outputs": [],
   "source": [
    "# Thay đổi hình dạng mảng\n",
    "arr_reshaped = arr_2d.reshape((4, 1))  # Thay đổi hình dạng mảng\n",
    "arr_flat = arr_2d.flatten()  # Làm phẳng mảng 2D"
   ]
  },
  {
   "cell_type": "code",
   "execution_count": 19,
   "metadata": {},
   "outputs": [
    {
     "name": "stdout",
     "output_type": "stream",
     "text": [
      "arr_reshaped: \n",
      " [[1]\n",
      " [2]\n",
      " [3]\n",
      " [4]]\n",
      "arr_flat: [1 2 3 4]\n"
     ]
    }
   ],
   "source": [
    "# In kết quả thay đổi hình dạng\n",
    "print(\"arr_reshaped: \\n\", arr_reshaped)\n",
    "print(\"arr_flat:\", arr_flat)"
   ]
  },
  {
   "cell_type": "markdown",
   "metadata": {},
   "source": [
    "---"
   ]
  },
  {
   "cell_type": "code",
   "execution_count": 20,
   "metadata": {},
   "outputs": [],
   "source": [
    "# Đại số tuyến tính\n",
    "arr_inv = np.linalg.inv(arr_2d)  # Ma trận nghịch đảo\n",
    "arr_transpose = arr_2d.T  # Chuyển vị của ma trận\n",
    "arr_eig = np.linalg.eig(arr_2d)  # Tính trị riêng và vector riêng"
   ]
  },
  {
   "cell_type": "code",
   "execution_count": 22,
   "metadata": {},
   "outputs": [
    {
     "name": "stdout",
     "output_type": "stream",
     "text": [
      "arr_inv: \n",
      " [[-2.   1. ]\n",
      " [ 1.5 -0.5]]\n",
      "arr_transpose: \n",
      " [[1 3]\n",
      " [2 4]]\n",
      "arr_eig: \n",
      " EigResult(eigenvalues=array([-0.37228132,  5.37228132]), eigenvectors=array([[-0.82456484, -0.41597356],\n",
      "       [ 0.56576746, -0.90937671]]))\n"
     ]
    }
   ],
   "source": [
    "# In kết quả đại số tuyến tính\n",
    "print(\"arr_inv: \\n\", arr_inv)\n",
    "print(\"arr_transpose: \\n\", arr_transpose)\n",
    "print(\"arr_eig: \\n\", arr_eig)"
   ]
  },
  {
   "cell_type": "markdown",
   "metadata": {},
   "source": [
    "---"
   ]
  },
  {
   "cell_type": "code",
   "execution_count": 23,
   "metadata": {},
   "outputs": [],
   "source": [
    "# Số ngẫu nhiên\n",
    "arr_random = np.random.rand(3, 3)  # Số ngẫu nhiên trong phạm vi [0, 1)\n",
    "arr_random_int = np.random.randint(1, 10, (3, 3))  # Số nguyên ngẫu nhiên từ 1 đến 10\n",
    "arr_normal = np.random.randn(3, 3)  # Phân phối chuẩn\n",
    "arr_uniform = np.random.uniform(0, 1, (3, 3))  # Phân phối đều trong phạm vi [0, 1)\n",
    "arr_choice = np.random.choice([1, 2, 3, 4], size=(3, 3))  # Chọn ngẫu nhiên từ các giá trị [1, 2, 3, 4]\n",
    "arr_shuffle = np.random.shuffle(arr_2d)  # Xáo trộn các phần tử của mảng\n",
    "np.random.seed(42)  # Đặt hạt giống cho số ngẫu nhiên để đảm bảo kết quả lặp lại"
   ]
  },
  {
   "cell_type": "code",
   "execution_count": 25,
   "metadata": {},
   "outputs": [
    {
     "name": "stdout",
     "output_type": "stream",
     "text": [
      "arr_random: \n",
      " [[0.82076934 0.45931757 0.06564014]\n",
      " [0.16436413 0.93848956 0.70997099]\n",
      " [0.88136639 0.40873042 0.96383939]]\n",
      "arr_random_int: \n",
      " [[3 8 2]\n",
      " [2 6 4]\n",
      " [5 2 7]]\n",
      "arr_normal: \n",
      " [[ 1.0340927  -1.35033242 -0.11594918]\n",
      " [ 1.54332189  1.12734177 -1.18442198]\n",
      " [ 1.02664854  0.58823096  0.9661148 ]]\n",
      "arr_uniform: \n",
      " [[0.71490727 0.39672181 0.28140939]\n",
      " [0.38008926 0.22097021 0.05038188]\n",
      " [0.20989373 0.59870238 0.32593697]]\n",
      "arr_choice: \n",
      " [[1 4 1]\n",
      " [2 2 1]\n",
      " [1 2 2]]\n"
     ]
    }
   ],
   "source": [
    "# In kết quả số ngẫu nhiên\n",
    "print(\"arr_random: \\n\", arr_random)\n",
    "print(\"arr_random_int: \\n\", arr_random_int)\n",
    "print(\"arr_normal: \\n\", arr_normal)\n",
    "print(\"arr_uniform: \\n\", arr_uniform)\n",
    "print(\"arr_choice: \\n\", arr_choice)"
   ]
  },
  {
   "cell_type": "markdown",
   "metadata": {},
   "source": [
    "---"
   ]
  },
  {
   "cell_type": "code",
   "execution_count": null,
   "metadata": {},
   "outputs": [],
   "source": [
    "arr_2d = np.array([[1, 2], [3, 4]])  # Ma trận 2x2\n",
    "arr = np.array([1, 2])  # Mảng 1D có kích thước (2,)\n",
    "\n",
    "# Phép toán Broadcasting - Thực hiện phép toán với 2 mảng có kích thước khác nhau\n",
    "arr_broadcast = arr_2d + arr  # Phép toán Broadcasting"
   ]
  },
  {
   "cell_type": "code",
   "execution_count": null,
   "metadata": {},
   "outputs": [
    {
     "name": "stdout",
     "output_type": "stream",
     "text": [
      "arr_broadcast: \n",
      " [[2 4]\n",
      " [4 6]]\n"
     ]
    }
   ],
   "source": [
    "# In kết quả phép toán Broadcasting\n",
    "print(\"arr_broadcast: \\n\", arr_broadcast)"
   ]
  },
  {
   "cell_type": "markdown",
   "metadata": {},
   "source": [
    "---"
   ]
  },
  {
   "cell_type": "code",
   "execution_count": 30,
   "metadata": {},
   "outputs": [],
   "source": [
    "# Phép toán Boolean\n",
    "arr_bool = arr_2d > 2  # So sánh các phần tử\n",
    "arr_all = np.all(arr_2d > 2)  # Kiểm tra xem tất cả phần tử có lớn hơn 2 không\n",
    "arr_any = np.any(arr_2d > 2)  # Kiểm tra xem có phần tử nào lớn hơn 2 không"
   ]
  },
  {
   "cell_type": "code",
   "execution_count": 32,
   "metadata": {},
   "outputs": [
    {
     "name": "stdout",
     "output_type": "stream",
     "text": [
      "arr_bool: \n",
      " [[False False]\n",
      " [ True  True]]\n",
      "arr_all: False\n",
      "arr_any: True\n"
     ]
    }
   ],
   "source": [
    "# In kết quả phép toán Boolean\n",
    "print(\"arr_bool: \\n\", arr_bool)\n",
    "print(\"arr_all:\", arr_all)\n",
    "print(\"arr_any:\", arr_any)"
   ]
  },
  {
   "cell_type": "markdown",
   "metadata": {},
   "source": [
    "---"
   ]
  },
  {
   "cell_type": "code",
   "execution_count": 33,
   "metadata": {},
   "outputs": [],
   "source": [
    "# Nối và chia mảng\n",
    "arr_vstack = np.vstack([arr_2d, arr_2d])  # Nối mảng theo chiều dọc\n",
    "arr_hstack = np.hstack([arr_2d, arr_2d])  # Nối mảng theo chiều ngang\n",
    "arr_split = np.split(arr_2d, 2, axis=0)  # Chia mảng thành 2 phần theo chiều dọc"
   ]
  },
  {
   "cell_type": "code",
   "execution_count": 35,
   "metadata": {},
   "outputs": [
    {
     "name": "stdout",
     "output_type": "stream",
     "text": [
      "arr_vstack: \n",
      " [[1 2]\n",
      " [3 4]\n",
      " [1 2]\n",
      " [3 4]]\n",
      "arr_hstack: \n",
      " [[1 2 1 2]\n",
      " [3 4 3 4]]\n",
      "arr_split: \n",
      " [array([[1, 2]]), array([[3, 4]])]\n"
     ]
    }
   ],
   "source": [
    "# In kết quả nối và chia mảng\n",
    "print(\"arr_vstack: \\n\", arr_vstack)\n",
    "print(\"arr_hstack: \\n\", arr_hstack)\n",
    "print(\"arr_split: \\n\", arr_split)"
   ]
  },
  {
   "cell_type": "markdown",
   "metadata": {},
   "source": [
    "---"
   ]
  },
  {
   "cell_type": "code",
   "execution_count": 36,
   "metadata": {},
   "outputs": [],
   "source": [
    "# Lưu và tải mảng\n",
    "np.save('array.npy', arr_2d)  # Lưu mảng vào file\n",
    "loaded_arr = np.load('array.npy')  # Tải mảng từ file"
   ]
  },
  {
   "cell_type": "code",
   "execution_count": 38,
   "metadata": {},
   "outputs": [
    {
     "name": "stdout",
     "output_type": "stream",
     "text": [
      "loaded_arr: \n",
      " [[1 2]\n",
      " [3 4]]\n"
     ]
    }
   ],
   "source": [
    "# In kết quả tải mảng\n",
    "print(\"loaded_arr: \\n\", loaded_arr)"
   ]
  }
 ],
 "metadata": {
  "kernelspec": {
   "display_name": "aima",
   "language": "python",
   "name": "python3"
  },
  "language_info": {
   "codemirror_mode": {
    "name": "ipython",
    "version": 3
   },
   "file_extension": ".py",
   "mimetype": "text/x-python",
   "name": "python",
   "nbconvert_exporter": "python",
   "pygments_lexer": "ipython3",
   "version": "3.12.4"
  }
 },
 "nbformat": 4,
 "nbformat_minor": 2
}
