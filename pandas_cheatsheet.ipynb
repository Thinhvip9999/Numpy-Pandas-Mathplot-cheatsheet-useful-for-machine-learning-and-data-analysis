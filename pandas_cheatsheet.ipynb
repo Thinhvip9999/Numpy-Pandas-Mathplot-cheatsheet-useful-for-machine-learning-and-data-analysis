{
 "cells": [
  {
   "cell_type": "markdown",
   "metadata": {},
   "source": [
    "# Pandas Cheatsheet"
   ]
  },
  {
   "cell_type": "code",
   "execution_count": 52,
   "metadata": {},
   "outputs": [],
   "source": [
    "# Import Pandas\n",
    "import pandas as pd"
   ]
  },
  {
   "cell_type": "code",
   "execution_count": 53,
   "metadata": {},
   "outputs": [],
   "source": [
    "# Tạo DataFrame từ dictionary\n",
    "data = {'Tên': ['Nguyễn A', 'Lê B', 'Trần C', 'Phạm D'],\n",
    "        'Tuổi': [25, 30, 22, 22],\n",
    "        'Lương': [5000, 6000, 4500, 4000]}\n",
    "df = pd.DataFrame(data)"
   ]
  },
  {
   "cell_type": "code",
   "execution_count": 54,
   "metadata": {},
   "outputs": [
    {
     "name": "stdout",
     "output_type": "stream",
     "text": [
      "DataFrame:\n",
      "         Tên  Tuổi  Lương\n",
      "0  Nguyễn A    25   5000\n",
      "1      Lê B    30   6000\n",
      "2    Trần C    22   4500\n",
      "3    Phạm D    22   4000\n"
     ]
    }
   ],
   "source": [
    "# In DataFrame\n",
    "print(\"DataFrame:\\n\", df)"
   ]
  },
  {
   "cell_type": "markdown",
   "metadata": {},
   "source": [
    "---"
   ]
  },
  {
   "cell_type": "code",
   "execution_count": 55,
   "metadata": {},
   "outputs": [],
   "source": [
    "# Tạo dữ liệu giả định về đội bóng Barcelona\n",
    "data = {\n",
    "    'Tên cầu thủ': ['Lionel Messi', 'Sergio Busquets', 'Gerard Piqué', 'Ansu Fati', 'Sergi Roberto'],\n",
    "    'Vị trí': ['Tiền đạo', 'Tiền vệ', 'Hậu vệ', 'Tiền đạo', 'Tiền vệ'],\n",
    "    'Số trận đấu': [778, 685, 616, 89, 292],\n",
    "    'Số bàn thắng': [672, 18, 56, 25, 12],\n",
    "    'Quốc tịch': ['Argentina', 'Tây Ban Nha', 'Tây Ban Nha', 'Tây Ban Nha', 'Tây Ban Nha']\n",
    "}"
   ]
  },
  {
   "cell_type": "code",
   "execution_count": 56,
   "metadata": {},
   "outputs": [
    {
     "name": "stdout",
     "output_type": "stream",
     "text": [
      "\n",
      "Đọc dữ liệu từ CSV:\n",
      "        Tên cầu thủ    Vị trí  Số trận đấu  Số bàn thắng    Quốc tịch\n",
      "0     Lionel Messi  Tiền đạo          778           672    Argentina\n",
      "1  Sergio Busquets   Tiền vệ          685            18  Tây Ban Nha\n",
      "2     Gerard Piqué    Hậu vệ          616            56  Tây Ban Nha\n",
      "3        Ansu Fati  Tiền đạo           89            25  Tây Ban Nha\n",
      "4    Sergi Roberto   Tiền vệ          292            12  Tây Ban Nha\n"
     ]
    }
   ],
   "source": [
    "# Đọc dữ liệu từ file CSV\n",
    "df_from_csv = pd.read_csv('data.csv')  # Đọc từ file CSV\n",
    "print(\"\\nĐọc dữ liệu từ CSV:\\n\", df_from_csv)"
   ]
  },
  {
   "cell_type": "markdown",
   "metadata": {},
   "source": [
    "---"
   ]
  },
  {
   "cell_type": "code",
   "execution_count": 57,
   "metadata": {},
   "outputs": [
    {
     "name": "stdout",
     "output_type": "stream",
     "text": [
      "\n",
      "Series:\n",
      " 0    1\n",
      "1    2\n",
      "2    3\n",
      "3    4\n",
      "dtype: int64\n"
     ]
    }
   ],
   "source": [
    "# Tạo Series từ list\n",
    "series = pd.Series([1, 2, 3, 4])\n",
    "print(\"\\nSeries:\\n\", series)"
   ]
  },
  {
   "cell_type": "markdown",
   "metadata": {},
   "source": [
    "---"
   ]
  },
  {
   "cell_type": "code",
   "execution_count": 58,
   "metadata": {},
   "outputs": [
    {
     "name": "stdout",
     "output_type": "stream",
     "text": [
      "<class 'pandas.core.frame.DataFrame'>\n",
      "RangeIndex: 4 entries, 0 to 3\n",
      "Data columns (total 3 columns):\n",
      " #   Column  Non-Null Count  Dtype \n",
      "---  ------  --------------  ----- \n",
      " 0   Tên     4 non-null      object\n",
      " 1   Tuổi    4 non-null      int64 \n",
      " 2   Lương   4 non-null      int64 \n",
      "dtypes: int64(2), object(1)\n",
      "memory usage: 228.0+ bytes\n",
      "\n",
      "Thông tin DataFrame:\n",
      " None\n",
      "\n",
      "Mô tả dữ liệu:\n",
      "             Tuổi        Lương\n",
      "count   4.000000     4.000000\n",
      "mean   24.750000  4875.000000\n",
      "std     3.774917   853.912564\n",
      "min    22.000000  4000.000000\n",
      "25%    22.000000  4375.000000\n",
      "50%    23.500000  4750.000000\n",
      "75%    26.250000  5250.000000\n",
      "max    30.000000  6000.000000\n"
     ]
    }
   ],
   "source": [
    "# Kiểm tra thông tin cơ bản về DataFrame\n",
    "print(\"\\nThông tin DataFrame:\\n\", df.info())  # Thông tin tổng quan về DataFrame\n",
    "print(\"\\nMô tả dữ liệu:\\n\", df.describe())  # Thống kê mô tả của DataFrame"
   ]
  },
  {
   "cell_type": "markdown",
   "metadata": {},
   "source": [
    "---"
   ]
  },
  {
   "cell_type": "code",
   "execution_count": 59,
   "metadata": {},
   "outputs": [
    {
     "name": "stdout",
     "output_type": "stream",
     "text": [
      "\n",
      "Cột 'Tuổi':\n",
      " 0    25\n",
      "1    30\n",
      "2    22\n",
      "3    22\n",
      "Name: Tuổi, dtype: int64\n"
     ]
    }
   ],
   "source": [
    "# Chọn cột trong DataFrame\n",
    "age_column = df['Tuổi']  # Chọn cột 'Tuổi'\n",
    "print(\"\\nCột 'Tuổi':\\n\", age_column)"
   ]
  },
  {
   "cell_type": "markdown",
   "metadata": {},
   "source": [
    "---"
   ]
  },
  {
   "cell_type": "code",
   "execution_count": 60,
   "metadata": {},
   "outputs": [
    {
     "name": "stdout",
     "output_type": "stream",
     "text": [
      "\n",
      "Chọn nhiều cột:\n",
      "         Tên  Lương\n",
      "0  Nguyễn A   5000\n",
      "1      Lê B   6000\n",
      "2    Trần C   4500\n",
      "3    Phạm D   4000\n"
     ]
    }
   ],
   "source": [
    "# Chọn nhiều cột trong DataFrame\n",
    "selected_columns = df[['Tên', 'Lương']]  # Chọn cột 'Tên' và 'Lương'\n",
    "print(\"\\nChọn nhiều cột:\\n\", selected_columns)"
   ]
  },
  {
   "cell_type": "markdown",
   "metadata": {},
   "source": [
    "---"
   ]
  },
  {
   "cell_type": "code",
   "execution_count": 61,
   "metadata": {},
   "outputs": [
    {
     "name": "stdout",
     "output_type": "stream",
     "text": [
      "\n",
      "Những người dưới 30 tuổi:\n",
      "         Tên  Tuổi  Lương\n",
      "0  Nguyễn A    25   5000\n",
      "2    Trần C    22   4500\n",
      "3    Phạm D    22   4000\n"
     ]
    }
   ],
   "source": [
    "# Lọc dữ liệu theo điều kiện\n",
    "young_people = df[df['Tuổi'] < 30]  # Lọc các bản ghi có 'Tuổi' < 30\n",
    "print(\"\\nNhững người dưới 30 tuổi:\\n\", young_people)"
   ]
  },
  {
   "cell_type": "markdown",
   "metadata": {},
   "source": [
    "---"
   ]
  },
  {
   "cell_type": "code",
   "execution_count": 62,
   "metadata": {},
   "outputs": [
    {
     "name": "stdout",
     "output_type": "stream",
     "text": [
      "\n",
      "Sắp xếp theo tuổi (giảm dần):\n",
      "         Tên  Tuổi  Lương\n",
      "1      Lê B    30   6000\n",
      "0  Nguyễn A    25   5000\n",
      "2    Trần C    22   4500\n",
      "3    Phạm D    22   4000\n"
     ]
    }
   ],
   "source": [
    "# Sắp xếp dữ liệu\n",
    "sorted_by_age = df.sort_values(by='Tuổi', ascending=False)  # Sắp xếp theo cột 'Tuổi'\n",
    "print(\"\\nSắp xếp theo tuổi (giảm dần):\\n\", sorted_by_age)"
   ]
  },
  {
   "cell_type": "markdown",
   "metadata": {},
   "source": [
    "---"
   ]
  },
  {
   "cell_type": "code",
   "execution_count": 63,
   "metadata": {},
   "outputs": [
    {
     "name": "stdout",
     "output_type": "stream",
     "text": [
      "\n",
      "DataFrame với cột mới:\n",
      "         Tên  Tuổi  Lương  Kinh nghiệm\n",
      "0  Nguyễn A    25   5000            2\n",
      "1      Lê B    30   6000            5\n",
      "2    Trần C    22   4500            1\n",
      "3    Phạm D    22   4000            6\n"
     ]
    }
   ],
   "source": [
    "# Thêm cột mới vào DataFrame\n",
    "df['Kinh nghiệm'] = [2, 5, 1, 6]  # Thêm cột 'Kinh nghiệm'\n",
    "print(\"\\nDataFrame với cột mới:\\n\", df)"
   ]
  },
  {
   "cell_type": "markdown",
   "metadata": {},
   "source": [
    "```"
   ]
  },
  {
   "cell_type": "markdown",
   "metadata": {},
   "source": [
    "---"
   ]
  },
  {
   "cell_type": "code",
   "execution_count": 64,
   "metadata": {},
   "outputs": [
    {
     "name": "stdout",
     "output_type": "stream",
     "text": [
      "\n",
      "Cập nhật lương:\n",
      "         Tên  Tuổi  Lương  Kinh nghiệm\n",
      "0  Nguyễn A    25   5000            2\n",
      "1      Lê B    30   6500            5\n",
      "2    Trần C    22   4500            1\n",
      "3    Phạm D    22   4000            6\n"
     ]
    }
   ],
   "source": [
    "# Cập nhật giá trị trong DataFrame\n",
    "df.loc[1, 'Lương'] = 6500  # Cập nhật lương của người thứ 2\n",
    "print(\"\\nCập nhật lương:\\n\", df)"
   ]
  },
  {
   "cell_type": "markdown",
   "metadata": {},
   "source": [
    "---"
   ]
  },
  {
   "cell_type": "code",
   "execution_count": 65,
   "metadata": {},
   "outputs": [
    {
     "name": "stdout",
     "output_type": "stream",
     "text": [
      "\n",
      "DataFrame sau khi xóa cột:\n",
      "         Tên  Tuổi  Lương\n",
      "0  Nguyễn A    25   5000\n",
      "1      Lê B    30   6500\n",
      "2    Trần C    22   4500\n",
      "3    Phạm D    22   4000\n"
     ]
    }
   ],
   "source": [
    "# Xóa cột khỏi DataFrame\n",
    "df = df.drop(columns=['Kinh nghiệm'])  # Xóa cột 'Kinh nghiệm'\n",
    "print(\"\\nDataFrame sau khi xóa cột:\\n\", df)"
   ]
  },
  {
   "cell_type": "markdown",
   "metadata": {},
   "source": [
    "---"
   ]
  },
  {
   "cell_type": "code",
   "execution_count": 66,
   "metadata": {},
   "outputs": [
    {
     "name": "stdout",
     "output_type": "stream",
     "text": [
      "\n",
      "DataFrame sau khi xóa hàng:\n",
      "       Tên  Tuổi  Lương\n",
      "1    Lê B    30   6500\n",
      "2  Trần C    22   4500\n",
      "3  Phạm D    22   4000\n"
     ]
    }
   ],
   "source": [
    "# Xóa hàng khỏi DataFrame\n",
    "df = df.drop(index=0)  # Xóa hàng có chỉ số 0\n",
    "print(\"\\nDataFrame sau khi xóa hàng:\\n\", df)"
   ]
  },
  {
   "cell_type": "markdown",
   "metadata": {},
   "source": [
    "---"
   ]
  },
  {
   "cell_type": "code",
   "execution_count": 68,
   "metadata": {},
   "outputs": [
    {
     "name": "stdout",
     "output_type": "stream",
     "text": [
      "\n",
      "Nhóm theo tuổi và tính trung bình:\n",
      "        Lương\n",
      "Tuổi        \n",
      "22    4250.0\n",
      "30    6500.0\n"
     ]
    }
   ],
   "source": [
    "# Nhóm dữ liệu theo một cột\n",
    "grouped = df.groupby('Tuổi')  # Nhóm theo cột 'Tuổi' và tính giá trị trung bình\n",
    "grouped = grouped.mean(numeric_only=True)\n",
    "print(\"\\nNhóm theo tuổi và tính trung bình:\\n\", grouped)"
   ]
  },
  {
   "cell_type": "markdown",
   "metadata": {},
   "source": [
    "---"
   ]
  },
  {
   "cell_type": "code",
   "execution_count": 69,
   "metadata": {},
   "outputs": [
    {
     "name": "stdout",
     "output_type": "stream",
     "text": [
      "\n",
      "Pivot bảng:\n",
      " Tuổi        22      30\n",
      "Tên                   \n",
      "Lê B       NaN  6500.0\n",
      "Phạm D  4000.0     NaN\n",
      "Trần C  4500.0     NaN\n"
     ]
    }
   ],
   "source": [
    "# Pivot bảng (chuyển cột thành dòng)\n",
    "pivot_table = df.pivot_table(values='Lương', index='Tên', columns='Tuổi', aggfunc='mean')\n",
    "print(\"\\nPivot bảng:\\n\", pivot_table)"
   ]
  },
  {
   "cell_type": "markdown",
   "metadata": {},
   "source": [
    "---"
   ]
  },
  {
   "cell_type": "code",
   "execution_count": 70,
   "metadata": {},
   "outputs": [
    {
     "name": "stdout",
     "output_type": "stream",
     "text": [
      "\n",
      "Kết hợp DataFrame:\n",
      "    ID Tên  Lương\n",
      "0   1   A   5000\n",
      "1   2   B   6000\n"
     ]
    }
   ],
   "source": [
    "# Kết hợp (merge) hai DataFrame\n",
    "df1 = pd.DataFrame({'ID': [1, 2, 3], 'Tên': ['A', 'B', 'C']})\n",
    "df2 = pd.DataFrame({'ID': [1, 2, 4], 'Lương': [5000, 6000, 7000]})\n",
    "merged_df = pd.merge(df1, df2, on='ID', how='inner')  # Kết hợp theo cột 'ID'\n",
    "print(\"\\nKết hợp DataFrame:\\n\", merged_df)"
   ]
  },
  {
   "cell_type": "markdown",
   "metadata": {},
   "source": [
    "---"
   ]
  },
  {
   "cell_type": "code",
   "execution_count": 71,
   "metadata": {},
   "outputs": [
    {
     "name": "stdout",
     "output_type": "stream",
     "text": [
      "\n",
      "Nối DataFrame:\n",
      "       Tên  Tuổi  Lương\n",
      "1    Lê B    30   6500\n",
      "2  Trần C    22   4500\n",
      "3  Phạm D    22   4000\n",
      "0       D    28   5500\n",
      "1       E    35   5000\n"
     ]
    }
   ],
   "source": [
    "# Nối DataFrame theo chiều dọc (stacking)\n",
    "df3 = pd.DataFrame({'Tên': ['D', 'E'], 'Tuổi': [28, 35], 'Lương': [5500, 5000]})\n",
    "concat_df = pd.concat([df, df3], axis=0)  # Nối dọc\n",
    "print(\"\\nNối DataFrame:\\n\", concat_df)"
   ]
  },
  {
   "cell_type": "markdown",
   "metadata": {},
   "source": [
    "---"
   ]
  },
  {
   "cell_type": "code",
   "execution_count": 72,
   "metadata": {},
   "outputs": [
    {
     "name": "stdout",
     "output_type": "stream",
     "text": [
      "\n",
      "Giá trị duy nhất trong cột 'Tuổi':\n",
      " [30 22]\n"
     ]
    }
   ],
   "source": [
    "# Lấy giá trị duy nhất trong một cột\n",
    "unique_ages = df['Tuổi'].unique()  # Lấy giá trị duy nhất trong cột 'Tuổi'\n",
    "print(\"\\nGiá trị duy nhất trong cột 'Tuổi':\\n\", unique_ages)"
   ]
  },
  {
   "cell_type": "markdown",
   "metadata": {},
   "source": [
    "---"
   ]
  },
  {
   "cell_type": "code",
   "execution_count": 73,
   "metadata": {},
   "outputs": [
    {
     "name": "stdout",
     "output_type": "stream",
     "text": [
      "\n",
      "Kiểm tra dữ liệu bị thiếu:\n",
      " Tên      0\n",
      "Tuổi     0\n",
      "Lương    0\n",
      "dtype: int64\n"
     ]
    }
   ],
   "source": [
    "# Kiểm tra dữ liệu bị thiếu\n",
    "print(\"\\nKiểm tra dữ liệu bị thiếu:\\n\", df.isnull().sum())  # Kiểm tra xem có bao nhiêu giá trị thiếu trong mỗi cột"
   ]
  },
  {
   "cell_type": "markdown",
   "metadata": {},
   "source": [
    "---"
   ]
  },
  {
   "cell_type": "code",
   "execution_count": 74,
   "metadata": {},
   "outputs": [
    {
     "name": "stdout",
     "output_type": "stream",
     "text": [
      "\n",
      "Điền giá trị thiếu vào DataFrame:\n",
      "       Tên  Tuổi  Lương\n",
      "1    Lê B    30   6500\n",
      "2  Trần C    22   4500\n",
      "3  Phạm D    22   4000\n"
     ]
    }
   ],
   "source": [
    "# Điền giá trị thiếu\n",
    "df['Lương'] = df['Lương'].fillna(0)  # Điền giá trị thiếu bằng 0\n",
    "print(\"\\nĐiền giá trị thiếu vào DataFrame:\\n\", df)"
   ]
  },
  {
   "cell_type": "markdown",
   "metadata": {},
   "source": [
    "---"
   ]
  },
  {
   "cell_type": "code",
   "execution_count": 75,
   "metadata": {},
   "outputs": [
    {
     "name": "stdout",
     "output_type": "stream",
     "text": [
      "\n",
      "Tên sau khi chuyển thành chữ in hoa:\n",
      " 1      LÊ B\n",
      "2    TRẦN C\n",
      "3    PHẠM D\n",
      "Name: Tên, dtype: object\n"
     ]
    }
   ],
   "source": [
    "# Xử lý dữ liệu chuỗi\n",
    "df['Tên'] = df['Tên'].str.upper()  # Chuyển tên thành chữ in hoa\n",
    "print(\"\\nTên sau khi chuyển thành chữ in hoa:\\n\", df['Tên'])"
   ]
  },
  {
   "cell_type": "markdown",
   "metadata": {},
   "source": [
    "---"
   ]
  },
  {
   "cell_type": "code",
   "execution_count": 76,
   "metadata": {},
   "outputs": [
    {
     "name": "stdout",
     "output_type": "stream",
     "text": [
      "\n",
      "Dữ liệu sau khi chuyển thành datetime:\n",
      "       Tên  Tuổi  Lương  Ngày sinh\n",
      "1    LÊ B    30   6500 1995-01-01\n",
      "2  TRẦN C    22   4500 1990-06-15\n",
      "3  PHẠM D    22   4000 1997-03-25\n"
     ]
    }
   ],
   "source": [
    "# Xử lý dữ liệu thời gian (chuyển chuỗi thành datetime)\n",
    "df['Ngày sinh'] = pd.to_datetime(['1995-01-01', '1990-06-15', '1997-03-25'])  # Chuyển đổi thành datetime\n",
    "print(\"\\nDữ liệu sau khi chuyển thành datetime:\\n\", df)"
   ]
  },
  {
   "cell_type": "markdown",
   "metadata": {},
   "source": [
    "---"
   ]
  },
  {
   "cell_type": "code",
   "execution_count": 77,
   "metadata": {},
   "outputs": [
    {
     "name": "stdout",
     "output_type": "stream",
     "text": [
      "\n",
      "Đếm số lượng mỗi giá trị trong cột 'Tuổi':\n",
      " Tuổi\n",
      "22    2\n",
      "30    1\n",
      "Name: count, dtype: int64\n"
     ]
    }
   ],
   "source": [
    "# Thống kê về các giá trị trong cột\n",
    "print(\"\\nĐếm số lượng mỗi giá trị trong cột 'Tuổi':\\n\", df['Tuổi'].value_counts())"
   ]
  }
 ],
 "metadata": {
  "kernelspec": {
   "display_name": "aima",
   "language": "python",
   "name": "python3"
  },
  "language_info": {
   "codemirror_mode": {
    "name": "ipython",
    "version": 3
   },
   "file_extension": ".py",
   "mimetype": "text/x-python",
   "name": "python",
   "nbconvert_exporter": "python",
   "pygments_lexer": "ipython3",
   "version": "3.12.4"
  }
 },
 "nbformat": 4,
 "nbformat_minor": 2
}
